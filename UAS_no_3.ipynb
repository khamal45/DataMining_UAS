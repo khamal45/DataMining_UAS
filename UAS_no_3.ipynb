{
  "nbformat": 4,
  "nbformat_minor": 0,
  "metadata": {
    "colab": {
      "provenance": []
    },
    "kernelspec": {
      "name": "python3",
      "display_name": "Python 3"
    },
    "language_info": {
      "name": "python"
    }
  },
  "cells": [
    {
      "cell_type": "code",
      "source": [
        "import pandas as pd\n",
        "import numpy as np\n",
        "from sklearn.preprocessing import StandardScaler\n",
        "from sklearn.neighbors import KNeighborsClassifier"
      ],
      "metadata": {
        "id": "UfsJm0aAbpX4"
      },
      "execution_count": 10,
      "outputs": []
    },
    {
      "cell_type": "code",
      "source": [
        "# Load data\n",
        "url = 'https://github.com/ekayuniar/datamining/raw/master/UAS/dataset%20soal%20no.3.xlsx'\n",
        "data = pd.read_excel(url)"
      ],
      "metadata": {
        "id": "dloOBojuf4Pb"
      },
      "execution_count": 11,
      "outputs": []
    },
    {
      "cell_type": "code",
      "execution_count": 12,
      "metadata": {
        "colab": {
          "base_uri": "https://localhost:8080/"
        },
        "id": "q49AFv12am40",
        "outputId": "b3dda317-d860-471c-e4fa-0c7790f83b75"
      },
      "outputs": [
        {
          "output_type": "stream",
          "name": "stdout",
          "text": [
            "Prediksi untuk soal 3a: 0\n",
            "Prediksi untuk soal 3b: 1\n"
          ]
        },
        {
          "output_type": "stream",
          "name": "stderr",
          "text": [
            "/usr/local/lib/python3.10/dist-packages/sklearn/base.py:439: UserWarning: X does not have valid feature names, but StandardScaler was fitted with feature names\n",
            "  warnings.warn(\n",
            "/usr/local/lib/python3.10/dist-packages/sklearn/base.py:439: UserWarning: X does not have valid feature names, but StandardScaler was fitted with feature names\n",
            "  warnings.warn(\n"
          ]
        }
      ],
      "source": [
        "\n",
        "X = data[['Usia', ' Kelahiran ke-', 'Waktu Kelahiran', 'Tekanan Darah',\n",
        "       'Kelainan Jantung']]\n",
        "y = data[' Cessar']\n",
        "\n",
        "scaler = StandardScaler()\n",
        "X_scaled = scaler.fit_transform(X)\n",
        "\n",
        "\n",
        "knn = KNeighborsClassifier(n_neighbors=5)\n",
        "\n",
        "\n",
        "knn.fit(X_scaled, y)\n",
        "\n",
        "# Test data points\n",
        "# Scenario 1: Ibu hamil dengan Usia 30 Tahun, Kelahiran ke-1, Waktu kelahiran sesuai HPL, Tekanan darah Normal\n",
        "test_point_1 = np.array([[30, 1, 0, 1,0]])\n",
        "# Scenario 2: Ibu hamil dengan Usia 29 Tahun, Kelahiran ke-2, Waktu kelahiran sesuai HPL, Tekanan darah Tinggi\n",
        "test_point_2 = np.array([[29, 2, 0, 2,0]])\n",
        "\n",
        "# Normalize test points\n",
        "test_point_1_scaled = scaler.transform(test_point_1)\n",
        "test_point_2_scaled = scaler.transform(test_point_2)\n",
        "\n",
        "# Make predictions\n",
        "prediction_1 = knn.predict(test_point_1_scaled)\n",
        "prediction_2 = knn.predict(test_point_2_scaled)\n",
        "\n",
        "print(f'Prediksi untuk soal 3a: {prediction_1[0]}')\n",
        "print(f'Prediksi untuk soal 3b: {prediction_2[0]}')\n"
      ]
    }
  ]
}